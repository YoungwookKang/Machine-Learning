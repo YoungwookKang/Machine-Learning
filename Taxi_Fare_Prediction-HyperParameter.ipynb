{
 "cells": [
  {
   "cell_type": "markdown",
   "metadata": {},
   "source": [
    "### Hyper Parameter\n",
    "The purpose of hyperparameter tuning is to maximize the generalizability of the model. That is, to ensure it performs well not just on the training data but also on unseen data (test data). By appropriately adjusting hyperparameters, one can prevent overfitting and improve the predictive performance of the model."
   ]
  },
  {
   "cell_type": "code",
   "execution_count": 1,
   "metadata": {},
   "outputs": [],
   "source": [
    "from pyspark.sql import SparkSession"
   ]
  },
  {
   "cell_type": "code",
   "execution_count": 2,
   "metadata": {},
   "outputs": [
    {
     "name": "stderr",
     "output_type": "stream",
     "text": [
      "Setting default log level to \"WARN\".\n",
      "To adjust logging level use sc.setLogLevel(newLevel). For SparkR, use setLogLevel(newLevel).\n",
      "23/12/04 12:33:39 WARN NativeCodeLoader: Unable to load native-hadoop library for your platform... using builtin-java classes where applicable\n"
     ]
    }
   ],
   "source": [
    "#Create a Spark instance and pre-allocate Max memory to prevent errors.\n",
    "MAX_MEMORY = \"5g\"\n",
    "spark = SparkSession.builder.appName(\"taxi-duration-prediction-2\")\\\n",
    "            .config(\"spark.executor.memory\", MAX_MEMORY)\\\n",
    "            .config(\"spark.driver.memory\", MAX_MEMORY).getOrCreate()"
   ]
  },
  {
   "cell_type": "code",
   "execution_count": 3,
   "metadata": {},
   "outputs": [],
   "source": [
    "# 데이터를 읽기 전에 데이터 타입을 변환\n",
    "data_dir = \"/Users/kyungminpark/Desktop/Fall2023/CS4641/data/\""
   ]
  },
  {
   "cell_type": "code",
   "execution_count": 4,
   "metadata": {},
   "outputs": [],
   "source": [
    "# 스키마를 사용하여 Parquet 파일을 읽음\n",
    "train_df = spark.read.parquet(f\"{data_dir}/train/\")\n",
    "test_df = spark.read.parquet(f\"{data_dir}/test/\")\n",
    "toy_df = train_df.sample(False, 0.1, seed=1)"
   ]
  },
  {
   "cell_type": "code",
   "execution_count": 5,
   "metadata": {},
   "outputs": [
    {
     "name": "stdout",
     "output_type": "stream",
     "text": [
      "root\n",
      " |-- passenger_count: double (nullable = true)\n",
      " |-- pickup_location_id: string (nullable = true)\n",
      " |-- dropoff_location_id: string (nullable = true)\n",
      " |-- trip_distance: double (nullable = true)\n",
      " |-- pickup_time: integer (nullable = true)\n",
      " |-- day_of_week: string (nullable = true)\n",
      " |-- total_amount: double (nullable = true)\n",
      "\n"
     ]
    }
   ],
   "source": [
    "toy_df.printSchema()"
   ]
  },
  {
   "cell_type": "code",
   "execution_count": 6,
   "metadata": {},
   "outputs": [],
   "source": [
    "## Categorical Feature PreProcessing Steps\n",
    "from pyspark.ml.feature import OneHotEncoder, StringIndexer\n",
    "\n",
    "cat_feats = [ ##categorical features\n",
    "    \"pickup_location_id\",\n",
    "    \"dropoff_location_id\",\n",
    "    \"day_of_week\"\n",
    "]\n",
    "\n",
    "## 파이프라인 stage을 통해 데이터를 통과 (파이프라인은 여러 스테이지로 구성되어 있고, 각 스테이지별로 실행됨)\n",
    "stages = []\n",
    "\n",
    "for c in cat_feats:\n",
    "    cat_indexer = StringIndexer(inputCol=c, outputCol= c + \"_idx\").setHandleInvalid(\"keep\")\n",
    "    onehot_encoder = OneHotEncoder(inputCols=[cat_indexer.getOutputCol()], outputCols=[c + \"_onehot\"])\n",
    "    stages += [cat_indexer, onehot_encoder]"
   ]
  },
  {
   "cell_type": "code",
   "execution_count": 7,
   "metadata": {},
   "outputs": [
    {
     "data": {
      "text/plain": [
       "[StringIndexer_229b6f949ac2,\n",
       " OneHotEncoder_2f34e2258ba2,\n",
       " StringIndexer_c027cf47ae58,\n",
       " OneHotEncoder_9b9181824ae5,\n",
       " StringIndexer_95d285ae9394,\n",
       " OneHotEncoder_7f1d94b0a99a]"
      ]
     },
     "execution_count": 7,
     "metadata": {},
     "output_type": "execute_result"
    }
   ],
   "source": [
    "stages"
   ]
  },
  {
   "cell_type": "code",
   "execution_count": 8,
   "metadata": {},
   "outputs": [],
   "source": [
    "from pyspark.ml.feature import VectorAssembler, StandardScaler\n",
    "\n",
    "num_feats = [\n",
    "    \"pickup_time\",\n",
    "    \"passenger_count\",\n",
    "    \"trip_distance\"\n",
    "]\n",
    "\n",
    "for n in num_feats:\n",
    "    num_assembler = VectorAssembler(inputCols=[n], outputCol= n + \"_vecotr\")\n",
    "    num_scaler = StandardScaler(inputCol=num_assembler.getOutputCol(), outputCol= n + \"_scaled\")\n",
    "    stages += [num_assembler, num_scaler]"
   ]
  },
  {
   "cell_type": "code",
   "execution_count": 9,
   "metadata": {},
   "outputs": [],
   "source": [
    "assembler_inputs = [c + \"_onehot\" for c in cat_feats] + [n + \"_scaled\" for n in num_feats]\n",
    "assembler = VectorAssembler(inputCols=assembler_inputs, outputCol=\"feature_vector\")\n",
    "stages += [assembler]"
   ]
  },
  {
   "cell_type": "markdown",
   "metadata": {},
   "source": [
    "## Hyperparameter Tuning"
   ]
  },
  {
   "cell_type": "code",
   "execution_count": 10,
   "metadata": {},
   "outputs": [],
   "source": [
    "from pyspark.ml import Pipeline\n",
    "from pyspark.ml.regression import LinearRegression\n",
    "from pyspark.ml.tuning import CrossValidator, ParamGridBuilder\n",
    "from pyspark.ml.evaluation import RegressionEvaluator\n",
    "\n",
    "lr = LinearRegression(\n",
    "    maxIter=30,\n",
    "    solver=\"normal\",\n",
    "    labelCol='total_amount',\n",
    "    featuresCol='feature_vector'\n",
    ")\n",
    "\n",
    "cv_stages = stages + [lr] ##Preprocessing + linear Regression"
   ]
  },
  {
   "cell_type": "code",
   "execution_count": 11,
   "metadata": {},
   "outputs": [],
   "source": [
    "cv_pipeline = Pipeline(stages=cv_stages)"
   ]
  },
  {
   "cell_type": "code",
   "execution_count": 12,
   "metadata": {},
   "outputs": [],
   "source": [
    "param_grid = ParamGridBuilder()\\\n",
    "                .addGrid(lr.elasticNetParam, [0.1, 0.2, 0.3, 0.4, 0.5])\\\n",
    "                .addGrid(lr.regParam, [0.01, 0.02, 0.03, 0.04, 0.05])\\\n",
    "                .build()\n",
    "\n",
    "cross_val = CrossValidator(estimator=cv_pipeline,\n",
    "                           estimatorParamMaps=param_grid,\n",
    "                           evaluator=RegressionEvaluator(labelCol=\"total_amount\"),\n",
    "                           numFolds=5)"
   ]
  },
  {
   "cell_type": "code",
   "execution_count": 13,
   "metadata": {},
   "outputs": [
    {
     "name": "stderr",
     "output_type": "stream",
     "text": [
      "23/12/04 12:34:06 WARN InstanceBuilder: Failed to load implementation from:dev.ludovic.netlib.blas.JNIBLAS\n",
      "23/12/04 12:34:06 WARN InstanceBuilder: Failed to load implementation from:dev.ludovic.netlib.blas.VectorBLAS\n",
      "                                                                                \r"
     ]
    }
   ],
   "source": [
    "cv_model = cross_val.fit(toy_df) ##Train toy_def"
   ]
  },
  {
   "cell_type": "code",
   "execution_count": 14,
   "metadata": {},
   "outputs": [],
   "source": [
    "alpha = cv_model.bestModel.stages[-1]._java_obj.getElasticNetParam()\n",
    "reg_param = cv_model.bestModel.stages[-1]._java_obj.getRegParam()"
   ]
  },
  {
   "cell_type": "markdown",
   "metadata": {},
   "source": [
    "## 이걸 실행하면 alpha - 0.1 , reg_param - 0.05 인걸 알게됨.\n",
    "## 이 숫자들을 가지고 다시 Training Section 적용해서 성능 비교."
   ]
  },
  {
   "cell_type": "markdown",
   "metadata": {},
   "source": [
    "## Training"
   ]
  },
  {
   "cell_type": "code",
   "execution_count": 15,
   "metadata": {},
   "outputs": [
    {
     "name": "stderr",
     "output_type": "stream",
     "text": [
      "\r",
      "[Stage 3024:=====>                                                 (1 + 9) / 10]\r",
      "\r",
      "                                                                                \r"
     ]
    }
   ],
   "source": [
    "transform_stages = stages\n",
    "pipeline = Pipeline(stages=transform_stages)\n",
    "fitted_transformer = pipeline.fit(train_df)\n",
    "\n",
    "vtrain_df = fitted_transformer.transform(train_df)\n",
    "\n",
    "\n",
    "lr = LinearRegression(\n",
    "    maxIter=50,\n",
    "    solver=\"normal\",\n",
    "    labelCol=\"total_amount\",\n",
    "    featuresCol=\"feature_vector\",\n",
    "    elasticNetParam=alpha, ## Newly added from the above\n",
    "    regParam=reg_param,    ## Newly added from the above\n",
    ")"
   ]
  },
  {
   "cell_type": "code",
   "execution_count": 16,
   "metadata": {},
   "outputs": [
    {
     "name": "stdout",
     "output_type": "stream",
     "text": [
      "root\n",
      " |-- passenger_count: double (nullable = true)\n",
      " |-- pickup_location_id: string (nullable = true)\n",
      " |-- dropoff_location_id: string (nullable = true)\n",
      " |-- trip_distance: double (nullable = true)\n",
      " |-- pickup_time: integer (nullable = true)\n",
      " |-- day_of_week: string (nullable = true)\n",
      " |-- total_amount: double (nullable = true)\n",
      " |-- pickup_location_id_idx: double (nullable = false)\n",
      " |-- pickup_location_id_onehot: vector (nullable = true)\n",
      " |-- dropoff_location_id_idx: double (nullable = false)\n",
      " |-- dropoff_location_id_onehot: vector (nullable = true)\n",
      " |-- day_of_week_idx: double (nullable = false)\n",
      " |-- day_of_week_onehot: vector (nullable = true)\n",
      " |-- pickup_time_vecotr: vector (nullable = true)\n",
      " |-- pickup_time_scaled: vector (nullable = true)\n",
      " |-- passenger_count_vecotr: vector (nullable = true)\n",
      " |-- passenger_count_scaled: vector (nullable = true)\n",
      " |-- trip_distance_vecotr: vector (nullable = true)\n",
      " |-- trip_distance_scaled: vector (nullable = true)\n",
      " |-- feature_vector: vector (nullable = true)\n",
      "\n"
     ]
    }
   ],
   "source": [
    "vtrain_df.printSchema()"
   ]
  },
  {
   "cell_type": "code",
   "execution_count": 17,
   "metadata": {},
   "outputs": [
    {
     "name": "stderr",
     "output_type": "stream",
     "text": [
      "                                                                                \r"
     ]
    },
    {
     "data": {
      "text/plain": [
       "DataFrame[passenger_count: double, pickup_location_id: string, dropoff_location_id: string, trip_distance: double, pickup_time: int, day_of_week: string, total_amount: double, pickup_location_id_idx: double, pickup_location_id_onehot: vector, dropoff_location_id_idx: double, dropoff_location_id_onehot: vector, day_of_week_idx: double, day_of_week_onehot: vector, pickup_time_vecotr: vector, pickup_time_scaled: vector, passenger_count_vecotr: vector, passenger_count_scaled: vector, trip_distance_vecotr: vector, trip_distance_scaled: vector, feature_vector: vector, prediction: double]"
      ]
     },
     "execution_count": 17,
     "metadata": {},
     "output_type": "execute_result"
    }
   ],
   "source": [
    "model = lr.fit(vtrain_df)\n",
    "vtest_df = fitted_transformer.transform(test_df)\n",
    "\n",
    "predictions = model.transform(vtest_df)\n",
    "predictions.cache()"
   ]
  },
  {
   "cell_type": "code",
   "execution_count": 18,
   "metadata": {},
   "outputs": [
    {
     "name": "stdout",
     "output_type": "stream",
     "text": [
      "+-------------+-----------+------------+------------------+\n",
      "|trip_distance|day_of_week|total_amount|        prediction|\n",
      "+-------------+-----------+------------+------------------+\n",
      "|          0.3|    Tuesday|        12.6|14.690715913607383|\n",
      "|          1.5|   Saturday|        14.0|  18.0011250791562|\n",
      "|          1.9|   Thursday|       21.35| 20.18423144836835|\n",
      "|          2.3|   Thursday|       29.85| 23.50635369736571|\n",
      "|         16.7|     Friday|       90.55| 86.99375670121539|\n",
      "|          0.9|    Tuesday|        17.0|15.940835772262776|\n",
      "|          1.9|     Sunday|        22.4|19.563971842794913|\n",
      "|          2.6|  Wednesday|        27.9|24.373894082368693|\n",
      "|          3.3|    Tuesday|        47.0|27.207305688184444|\n",
      "|          3.3|     Monday|        29.7| 26.57452001959966|\n",
      "|          2.3|  Wednesday|        33.2|23.319352620882395|\n",
      "|          0.6|  Wednesday|        15.4| 16.02458878822991|\n",
      "|          0.8|  Wednesday|       14.25| 17.17093393251385|\n",
      "|          0.9|   Thursday|       14.25| 16.95915349661712|\n",
      "|          0.9|   Thursday|       17.15|18.163155072477274|\n",
      "|          1.3|  Wednesday|       19.65|19.878071486668176|\n",
      "|          0.5|    Tuesday|        11.9|15.863899999840779|\n",
      "|          0.5|     Sunday|        10.5|14.443311249444736|\n",
      "|          0.8|   Thursday|       15.95|17.504260488318103|\n",
      "|          0.6|     Friday|        11.5|14.996975589081142|\n",
      "+-------------+-----------+------------+------------------+\n",
      "only showing top 20 rows\n",
      "\n"
     ]
    }
   ],
   "source": [
    "predictions.select([\"trip_distance\", \"day_of_week\", \"total_amount\", \"prediction\"]).show()"
   ]
  },
  {
   "cell_type": "code",
   "execution_count": 19,
   "metadata": {},
   "outputs": [
    {
     "data": {
      "text/plain": [
       "6.672639084886589"
      ]
     },
     "execution_count": 19,
     "metadata": {},
     "output_type": "execute_result"
    }
   ],
   "source": [
    "model.summary.rootMeanSquaredError"
   ]
  },
  {
   "cell_type": "code",
   "execution_count": 20,
   "metadata": {},
   "outputs": [
    {
     "data": {
      "text/plain": [
       "0.9105094622761973"
      ]
     },
     "execution_count": 20,
     "metadata": {},
     "output_type": "execute_result"
    }
   ],
   "source": [
    "model.summary.r2"
   ]
  },
  {
   "cell_type": "markdown",
   "metadata": {},
   "source": [
    "# 모델 저장 및 재사용"
   ]
  },
  {
   "cell_type": "code",
   "execution_count": 30,
   "metadata": {},
   "outputs": [],
   "source": [
    "model_dir = \"/Users/kyungminpark/Desktop/Fall2023/CS4641/data/model\"\n",
    "model.save(model_dir)"
   ]
  },
  {
   "cell_type": "code",
   "execution_count": 31,
   "metadata": {},
   "outputs": [
    {
     "name": "stdout",
     "output_type": "stream",
     "text": [
      "+---------------+------------------+-------------------+-------------+-----------+-----------+------------+----------------------+-------------------------+-----------------------+--------------------------+---------------+------------------+------------------+--------------------+----------------------+----------------------+--------------------+--------------------+--------------------+------------------+\n",
      "|passenger_count|pickup_location_id|dropoff_location_id|trip_distance|pickup_time|day_of_week|total_amount|pickup_location_id_idx|pickup_location_id_onehot|dropoff_location_id_idx|dropoff_location_id_onehot|day_of_week_idx|day_of_week_onehot|pickup_time_vecotr|  pickup_time_scaled|passenger_count_vecotr|passenger_count_scaled|trip_distance_vecotr|trip_distance_scaled|      feature_vector|        prediction|\n",
      "+---------------+------------------+-------------------+-------------+-----------+-----------+------------+----------------------+-------------------------+-----------------------+--------------------------+---------------+------------------+------------------+--------------------+----------------------+----------------------+--------------------+--------------------+--------------------+------------------+\n",
      "|            0.0|               100|                100|          0.3|          7|    Tuesday|        12.6|                  24.0|         (257,[24],[1.0])|                   27.0|          (261,[27],[1.0])|            2.0|     (7,[2],[1.0])|             [7.0]|[1.2051157677061521]|                 [0.0]|                 [0.0]|               [0.3]|[0.06531275350060...|(528,[24,284,520,...|14.690715913607383|\n",
      "|            0.0|               100|                107|          1.5|         13|   Saturday|        14.0|                  24.0|         (257,[24],[1.0])|                   20.0|          (261,[20],[1.0])|            0.0|     (7,[0],[1.0])|            [13.0]|[2.2380721400257113]|                 [0.0]|                 [0.0]|               [1.5]|[0.32656376750303...|(528,[24,277,518,...|  18.0011250791562|\n",
      "|            0.0|               100|                107|          1.9|          1|   Thursday|       21.35|                  24.0|         (257,[24],[1.0])|                   20.0|          (261,[20],[1.0])|            1.0|     (7,[1],[1.0])|             [1.0]|[0.17215939538659...|                 [0.0]|                 [0.0]|               [1.9]|[0.4136474388371754]|(528,[24,277,519,...| 20.18423144836835|\n",
      "|            0.0|               100|                114|          2.3|         16|   Thursday|       29.85|                  24.0|         (257,[24],[1.0])|                   38.0|          (261,[38],[1.0])|            1.0|     (7,[1],[1.0])|            [16.0]|[2.7545503261854907]|                 [0.0]|                 [0.0]|               [2.3]|[0.5007311101713176]|(528,[24,295,519,...| 23.50635369736571|\n",
      "|            0.0|               100|                132|         16.7|          6|     Friday|       90.55|                  24.0|         (257,[24],[1.0])|                   35.0|          (261,[35],[1.0])|            6.0|     (7,[6],[1.0])|             [6.0]| [1.032956372319559]|                 [0.0]|                 [0.0]|              [16.7]|[3.6357432782004366]|(528,[24,292,524,...| 86.99375670121539|\n",
      "|            0.0|               100|                137|          0.9|         10|    Tuesday|        17.0|                  24.0|         (257,[24],[1.0])|                   29.0|          (261,[29],[1.0])|            2.0|     (7,[2],[1.0])|            [10.0]|[1.7215939538659317]|                 [0.0]|                 [0.0]|               [0.9]|[0.19593826050181...|(528,[24,286,520,...|15.940835772262776|\n",
      "|            0.0|               100|                137|          1.9|         19|     Sunday|        22.4|                  24.0|         (257,[24],[1.0])|                   29.0|          (261,[29],[1.0])|            5.0|     (7,[5],[1.0])|            [19.0]|  [3.27102851234527]|                 [0.0]|                 [0.0]|               [1.9]|[0.4136474388371754]|(528,[24,286,523,...|19.563971842794913|\n",
      "|            0.0|               100|                140|          2.6|         14|  Wednesday|        27.9|                  24.0|         (257,[24],[1.0])|                   18.0|          (261,[18],[1.0])|            3.0|     (7,[3],[1.0])|            [14.0]|[2.4102315354123043]|                 [0.0]|                 [0.0]|               [2.6]|[0.5660438636719243]|(528,[24,275,521,...|24.373894082368693|\n",
      "|            0.0|               100|                140|          3.3|         13|    Tuesday|        47.0|                  24.0|         (257,[24],[1.0])|                   18.0|          (261,[18],[1.0])|            2.0|     (7,[2],[1.0])|            [13.0]|[2.2380721400257113]|                 [0.0]|                 [0.0]|               [3.3]|[0.7184402885066731]|(528,[24,275,520,...|27.207305688184444|\n",
      "|            0.0|               100|                140|          3.3|         16|     Monday|        29.7|                  24.0|         (257,[24],[1.0])|                   18.0|          (261,[18],[1.0])|            4.0|     (7,[4],[1.0])|            [16.0]|[2.7545503261854907]|                 [0.0]|                 [0.0]|               [3.3]|[0.7184402885066731]|(528,[24,275,522,...| 26.57452001959966|\n",
      "|            0.0|               100|                142|          2.3|         16|  Wednesday|        33.2|                  24.0|         (257,[24],[1.0])|                    6.0|           (261,[6],[1.0])|            3.0|     (7,[3],[1.0])|            [16.0]|[2.7545503261854907]|                 [0.0]|                 [0.0]|               [2.3]|[0.5007311101713176]|(528,[24,263,521,...|23.319352620882395|\n",
      "|            0.0|               100|                161|          0.6|         12|  Wednesday|        15.4|                  24.0|         (257,[24],[1.0])|                    2.0|           (261,[2],[1.0])|            3.0|     (7,[3],[1.0])|            [12.0]| [2.065912744639118]|                 [0.0]|                 [0.0]|               [0.6]|[0.13062550700121...|(528,[24,259,521,...| 16.02458878822991|\n",
      "|            0.0|               100|                161|          0.8|         15|  Wednesday|       14.25|                  24.0|         (257,[24],[1.0])|                    2.0|           (261,[2],[1.0])|            3.0|     (7,[3],[1.0])|            [15.0]|[2.5823909307988977]|                 [0.0]|                 [0.0]|               [0.8]|[0.1741673426682844]|(528,[24,259,521,...| 17.17093393251385|\n",
      "|            0.0|               100|                161|          0.9|          6|   Thursday|       14.25|                  24.0|         (257,[24],[1.0])|                    2.0|           (261,[2],[1.0])|            1.0|     (7,[1],[1.0])|             [6.0]| [1.032956372319559]|                 [0.0]|                 [0.0]|               [0.9]|[0.19593826050181...|(528,[24,259,519,...| 16.95915349661712|\n",
      "|            0.0|               100|                161|          0.9|         20|   Thursday|       17.15|                  24.0|         (257,[24],[1.0])|                    2.0|           (261,[2],[1.0])|            1.0|     (7,[1],[1.0])|            [20.0]|[3.4431879077318635]|                 [0.0]|                 [0.0]|               [0.9]|[0.19593826050181...|(528,[24,259,519,...|18.163155072477274|\n",
      "|            0.0|               100|                163|          1.3|         21|  Wednesday|       19.65|                  24.0|         (257,[24],[1.0])|                   11.0|          (261,[11],[1.0])|            3.0|     (7,[3],[1.0])|            [21.0]|[3.6153473031184564]|                 [0.0]|                 [0.0]|               [1.3]|[0.28302193183596...|(528,[24,268,521,...|19.878071486668176|\n",
      "|            0.0|               100|                164|          0.5|         14|    Tuesday|        11.9|                  24.0|         (257,[24],[1.0])|                   17.0|          (261,[17],[1.0])|            2.0|     (7,[2],[1.0])|            [14.0]|[2.4102315354123043]|                 [0.0]|                 [0.0]|               [0.5]|[0.10885458916767...|(528,[24,274,520,...|15.863899999840779|\n",
      "|            0.0|               100|                164|          0.5|         16|     Sunday|        10.5|                  24.0|         (257,[24],[1.0])|                   17.0|          (261,[17],[1.0])|            5.0|     (7,[5],[1.0])|            [16.0]|[2.7545503261854907]|                 [0.0]|                 [0.0]|               [0.5]|[0.10885458916767...|(528,[24,274,523,...|14.443311249444736|\n",
      "|            0.0|               100|                164|          0.8|         14|   Thursday|       15.95|                  24.0|         (257,[24],[1.0])|                   17.0|          (261,[17],[1.0])|            1.0|     (7,[1],[1.0])|            [14.0]|[2.4102315354123043]|                 [0.0]|                 [0.0]|               [0.8]|[0.1741673426682844]|(528,[24,274,519,...|17.504260488318103|\n",
      "|            0.0|               100|                170|          0.6|          7|     Friday|        11.5|                  24.0|         (257,[24],[1.0])|                    4.0|           (261,[4],[1.0])|            6.0|     (7,[6],[1.0])|             [7.0]|[1.2051157677061521]|                 [0.0]|                 [0.0]|               [0.6]|[0.13062550700121...|(528,[24,261,524,...|14.996975589081142|\n",
      "+---------------+------------------+-------------------+-------------+-----------+-----------+------------+----------------------+-------------------------+-----------------------+--------------------------+---------------+------------------+------------------+--------------------+----------------------+----------------------+--------------------+--------------------+--------------------+------------------+\n",
      "only showing top 20 rows\n",
      "\n"
     ]
    }
   ],
   "source": [
    "from pyspark.ml.regression import LinearRegressionModel\n",
    "\n",
    "lr_model = LinearRegressionModel().load(model_dir)\n",
    "predictions = lr_model.transform(vtest_df)\n",
    "\n",
    "predictions.show()"
   ]
  },
  {
   "cell_type": "markdown",
   "metadata": {},
   "source": [
    "# Non-supervised Learning"
   ]
  },
  {
   "cell_type": "code",
   "execution_count": 36,
   "metadata": {},
   "outputs": [],
   "source": [
    "from pyspark.ml import Pipeline\n",
    "from pyspark.ml.feature import VectorAssembler, StringIndexer, OneHotEncoder, MinMaxScaler\n",
    "from pyspark.ml.regression import RandomForestRegressor\n",
    "from pyspark.ml.tuning import CrossValidator, ParamGridBuilder\n",
    "from pyspark.ml.evaluation import RegressionEvaluator\n",
    "from pyspark.sql.functions import col, abs\n",
    "\n",
    "# Convert string to index\n",
    "day_of_week_indexer = StringIndexer(inputCol=\"day_of_week\", outputCol=\"day_of_week_index\")\n",
    "\n",
    "# One-hot encoding\n",
    "day_of_week_encoder = OneHotEncoder(inputCol=\"day_of_week_index\", outputCol=\"day_of_week_encoded\")\n",
    "\n",
    "# Feature assembly with encoded day_of_week\n",
    "assembler = VectorAssembler(inputCols=[\"passenger_count\", \"trip_distance\", \"pickup_time\", \"day_of_week_encoded\"], outputCol=\"features\")\n",
    "\n",
    "# Feature scaling\n",
    "scaler = MinMaxScaler(inputCol=\"features\", outputCol=\"scaledFeatures\")"
   ]
  },
  {
   "cell_type": "code",
   "execution_count": 37,
   "metadata": {},
   "outputs": [],
   "source": [
    "# Random Forest Regressor\n",
    "rf = RandomForestRegressor(featuresCol=\"scaledFeatures\", labelCol=\"total_amount\")\n",
    "\n",
    "# Pipeline with indexing, encoding, assembling, and scaling stages\n",
    "pipeline = Pipeline(stages=[day_of_week_indexer, day_of_week_encoder, assembler, scaler, rf])\n",
    "\n",
    "# Extended hyperparameter tuning\n",
    "paramGrid = ParamGridBuilder() \\\n",
    "    .addGrid(rf.numTrees, [20, 50, 100]) \\\n",
    "    .addGrid(rf.maxDepth, [5, 10, 15]) \\\n",
    "    .addGrid(rf.maxBins, [32, 64]) \\\n",
    "    .build()\n",
    "\n",
    "# Using a smaller dataset for initial tuning\n",
    "small_train_df = train_df.sample(False, 0.3) # 30% of the data"
   ]
  },
  {
   "cell_type": "code",
   "execution_count": 38,
   "metadata": {},
   "outputs": [
    {
     "name": "stderr",
     "output_type": "stream",
     "text": [
      "23/12/04 13:02:36 WARN DAGScheduler: Broadcasting large task binary with size 1348.2 KiB\n",
      "23/12/04 13:02:42 WARN DAGScheduler: Broadcasting large task binary with size 1389.1 KiB\n",
      "23/12/04 13:02:48 WARN DAGScheduler: Broadcasting large task binary with size 1348.2 KiB\n",
      "23/12/04 13:02:49 WARN DAGScheduler: Broadcasting large task binary with size 1996.8 KiB\n",
      "23/12/04 13:02:50 WARN DAGScheduler: Broadcasting large task binary with size 2.8 MiB\n",
      "23/12/04 13:02:51 WARN DAGScheduler: Broadcasting large task binary with size 3.9 MiB\n",
      "23/12/04 13:02:52 WARN DAGScheduler: Broadcasting large task binary with size 5.1 MiB\n",
      "23/12/04 13:02:54 WARN DAGScheduler: Broadcasting large task binary with size 6.4 MiB\n",
      "23/12/04 13:03:02 WARN DAGScheduler: Broadcasting large task binary with size 1389.1 KiB\n",
      "23/12/04 13:03:02 WARN DAGScheduler: Broadcasting large task binary with size 2.0 MiB\n",
      "23/12/04 13:03:03 WARN DAGScheduler: Broadcasting large task binary with size 3.0 MiB\n",
      "23/12/04 13:03:05 WARN DAGScheduler: Broadcasting large task binary with size 4.2 MiB\n",
      "23/12/04 13:03:06 WARN DAGScheduler: Broadcasting large task binary with size 5.7 MiB\n",
      "23/12/04 13:03:08 WARN DAGScheduler: Broadcasting large task binary with size 1021.5 KiB\n",
      "23/12/04 13:03:08 WARN DAGScheduler: Broadcasting large task binary with size 7.5 MiB\n",
      "23/12/04 13:03:09 WARN DAGScheduler: Broadcasting large task binary with size 1172.6 KiB\n",
      "23/12/04 13:03:29 WARN DAGScheduler: Broadcasting large task binary with size 1284.5 KiB\n",
      "23/12/04 13:03:31 WARN DAGScheduler: Broadcasting large task binary with size 2.0 MiB\n",
      "23/12/04 13:03:34 WARN DAGScheduler: Broadcasting large task binary with size 3.1 MiB\n",
      "23/12/04 13:03:47 WARN DAGScheduler: Broadcasting large task binary with size 1298.5 KiB\n",
      "23/12/04 13:03:49 WARN DAGScheduler: Broadcasting large task binary with size 2.1 MiB\n",
      "23/12/04 13:03:51 WARN DAGScheduler: Broadcasting large task binary with size 3.2 MiB\n",
      "23/12/04 13:04:04 WARN DAGScheduler: Broadcasting large task binary with size 1284.5 KiB\n",
      "23/12/04 13:04:06 WARN DAGScheduler: Broadcasting large task binary with size 2.0 MiB\n",
      "23/12/04 13:04:09 WARN DAGScheduler: Broadcasting large task binary with size 3.1 MiB\n",
      "23/12/04 13:04:11 WARN DAGScheduler: Broadcasting large task binary with size 4.7 MiB\n",
      "23/12/04 13:04:14 WARN DAGScheduler: Broadcasting large task binary with size 1042.3 KiB\n",
      "23/12/04 13:04:15 WARN DAGScheduler: Broadcasting large task binary with size 6.8 MiB\n",
      "23/12/04 13:04:18 WARN DAGScheduler: Broadcasting large task binary with size 1402.5 KiB\n",
      "23/12/04 13:04:18 WARN DAGScheduler: Broadcasting large task binary with size 9.4 MiB\n",
      "23/12/04 13:04:22 WARN DAGScheduler: Broadcasting large task binary with size 1747.7 KiB\n",
      "23/12/04 13:04:22 WARN DAGScheduler: Broadcasting large task binary with size 12.5 MiB\n",
      "23/12/04 13:04:26 WARN DAGScheduler: Broadcasting large task binary with size 2.0 MiB\n",
      "23/12/04 13:04:27 WARN DAGScheduler: Broadcasting large task binary with size 15.9 MiB\n",
      "23/12/04 13:04:31 WARN DAGScheduler: Broadcasting large task binary with size 2.2 MiB\n",
      "23/12/04 13:04:40 WARN DAGScheduler: Broadcasting large task binary with size 1298.5 KiB\n",
      "23/12/04 13:04:42 WARN DAGScheduler: Broadcasting large task binary with size 2.1 MiB\n",
      "23/12/04 13:04:44 WARN DAGScheduler: Broadcasting large task binary with size 3.2 MiB\n",
      "23/12/04 13:04:47 WARN DAGScheduler: Broadcasting large task binary with size 5.0 MiB\n",
      "23/12/04 13:04:50 WARN DAGScheduler: Broadcasting large task binary with size 1160.4 KiB\n",
      "23/12/04 13:04:50 WARN DAGScheduler: Broadcasting large task binary with size 7.4 MiB\n",
      "23/12/04 13:04:53 WARN DAGScheduler: Broadcasting large task binary with size 1608.1 KiB\n",
      "23/12/04 13:04:54 WARN DAGScheduler: Broadcasting large task binary with size 10.6 MiB\n",
      "23/12/04 13:04:57 WARN DAGScheduler: Broadcasting large task binary with size 2.1 MiB\n",
      "23/12/04 13:04:58 WARN DAGScheduler: Broadcasting large task binary with size 14.5 MiB\n",
      "23/12/04 13:05:02 WARN DAGScheduler: Broadcasting large task binary with size 2.5 MiB\n",
      "23/12/04 13:05:03 WARN DAGScheduler: Broadcasting large task binary with size 19.1 MiB\n",
      "23/12/04 13:05:08 WARN DAGScheduler: Broadcasting large task binary with size 2.9 MiB\n",
      "23/12/04 13:05:46 WARN DAGScheduler: Broadcasting large task binary with size 1440.7 KiB\n",
      "23/12/04 13:05:49 WARN DAGScheduler: Broadcasting large task binary with size 2.4 MiB\n",
      "23/12/04 13:05:55 WARN DAGScheduler: Broadcasting large task binary with size 3.9 MiB\n",
      "23/12/04 13:06:01 WARN DAGScheduler: Broadcasting large task binary with size 1024.4 KiB\n",
      "23/12/04 13:06:01 WARN DAGScheduler: Broadcasting large task binary with size 6.2 MiB\n",
      "23/12/04 13:06:07 WARN DAGScheduler: Broadcasting large task binary with size 1528.7 KiB\n",
      "23/12/04 13:06:23 WARN DAGScheduler: Broadcasting large task binary with size 1459.1 KiB\n",
      "23/12/04 13:06:28 WARN DAGScheduler: Broadcasting large task binary with size 2.5 MiB\n",
      "23/12/04 13:06:33 WARN DAGScheduler: Broadcasting large task binary with size 4.1 MiB\n",
      "23/12/04 13:06:38 WARN DAGScheduler: Broadcasting large task binary with size 1067.0 KiB\n",
      "23/12/04 13:06:38 WARN DAGScheduler: Broadcasting large task binary with size 6.5 MiB\n",
      "23/12/04 13:06:44 WARN DAGScheduler: Broadcasting large task binary with size 1623.5 KiB\n",
      "23/12/04 13:07:00 WARN DAGScheduler: Broadcasting large task binary with size 1440.7 KiB\n",
      "23/12/04 13:07:03 WARN DAGScheduler: Broadcasting large task binary with size 2.4 MiB\n",
      "23/12/04 13:07:08 WARN DAGScheduler: Broadcasting large task binary with size 3.9 MiB\n",
      "23/12/04 13:07:13 WARN DAGScheduler: Broadcasting large task binary with size 1024.4 KiB\n",
      "23/12/04 13:07:13 WARN DAGScheduler: Broadcasting large task binary with size 6.2 MiB\n",
      "23/12/04 13:07:19 WARN DAGScheduler: Broadcasting large task binary with size 1528.7 KiB\n",
      "23/12/04 13:07:20 WARN DAGScheduler: Broadcasting large task binary with size 9.5 MiB\n",
      "23/12/04 13:07:27 WARN DAGScheduler: Broadcasting large task binary with size 2.1 MiB\n",
      "23/12/04 13:07:27 WARN DAGScheduler: Broadcasting large task binary with size 13.8 MiB\n",
      "23/12/04 13:07:36 WARN DAGScheduler: Broadcasting large task binary with size 2.8 MiB\n",
      "23/12/04 13:07:37 WARN DAGScheduler: Broadcasting large task binary with size 19.3 MiB\n",
      "23/12/04 13:07:47 WARN DAGScheduler: Broadcasting large task binary with size 3.5 MiB\n",
      "23/12/04 13:07:48 WARN DAGScheduler: Broadcasting large task binary with size 25.7 MiB\n",
      "23/12/04 13:07:59 WARN DAGScheduler: Broadcasting large task binary with size 4.2 MiB\n",
      "23/12/04 13:08:01 WARN DAGScheduler: Broadcasting large task binary with size 32.7 MiB\n",
      "23/12/04 13:08:12 WARN DAGScheduler: Broadcasting large task binary with size 4.5 MiB\n",
      "23/12/04 13:08:29 WARN DAGScheduler: Broadcasting large task binary with size 1459.1 KiB\n",
      "23/12/04 13:08:32 WARN DAGScheduler: Broadcasting large task binary with size 2.5 MiB\n",
      "23/12/04 13:08:36 WARN DAGScheduler: Broadcasting large task binary with size 4.1 MiB\n",
      "23/12/04 13:08:42 WARN DAGScheduler: Broadcasting large task binary with size 1067.0 KiB\n",
      "23/12/04 13:08:42 WARN DAGScheduler: Broadcasting large task binary with size 6.5 MiB\n",
      "23/12/04 13:08:48 WARN DAGScheduler: Broadcasting large task binary with size 1623.5 KiB\n",
      "23/12/04 13:08:48 WARN DAGScheduler: Broadcasting large task binary with size 10.1 MiB\n",
      "23/12/04 13:08:56 WARN DAGScheduler: Broadcasting large task binary with size 2.3 MiB\n",
      "23/12/04 13:08:57 WARN DAGScheduler: Broadcasting large task binary with size 15.0 MiB\n",
      "23/12/04 13:09:06 WARN DAGScheduler: Broadcasting large task binary with size 3.2 MiB\n",
      "23/12/04 13:09:07 WARN DAGScheduler: Broadcasting large task binary with size 21.6 MiB\n",
      "23/12/04 13:09:17 WARN DAGScheduler: Broadcasting large task binary with size 4.2 MiB\n",
      "23/12/04 13:09:18 WARN DAGScheduler: Broadcasting large task binary with size 29.7 MiB\n",
      "23/12/04 13:09:29 WARN DAGScheduler: Broadcasting large task binary with size 5.2 MiB\n",
      "23/12/04 13:09:31 WARN DAGScheduler: Broadcasting large task binary with size 39.1 MiB\n",
      "23/12/04 13:09:44 WARN DAGScheduler: Broadcasting large task binary with size 6.1 MiB\n",
      "23/12/04 13:09:58 WARN DAGScheduler: Broadcasting large task binary with size 1353.8 KiB\n",
      "23/12/04 13:10:04 WARN DAGScheduler: Broadcasting large task binary with size 1393.9 KiB\n"
     ]
    },
    {
     "name": "stderr",
     "output_type": "stream",
     "text": [
      "23/12/04 13:10:10 WARN DAGScheduler: Broadcasting large task binary with size 1353.8 KiB\n",
      "23/12/04 13:10:11 WARN DAGScheduler: Broadcasting large task binary with size 1977.9 KiB\n",
      "23/12/04 13:10:12 WARN DAGScheduler: Broadcasting large task binary with size 2.7 MiB\n",
      "23/12/04 13:10:13 WARN DAGScheduler: Broadcasting large task binary with size 3.7 MiB\n",
      "23/12/04 13:10:15 WARN DAGScheduler: Broadcasting large task binary with size 4.9 MiB\n",
      "23/12/04 13:10:17 WARN DAGScheduler: Broadcasting large task binary with size 6.1 MiB\n",
      "23/12/04 13:10:23 WARN DAGScheduler: Broadcasting large task binary with size 1393.9 KiB\n",
      "23/12/04 13:10:23 WARN DAGScheduler: Broadcasting large task binary with size 2.0 MiB\n",
      "23/12/04 13:10:25 WARN DAGScheduler: Broadcasting large task binary with size 2.9 MiB\n",
      "23/12/04 13:10:25 WARN DAGScheduler: Broadcasting large task binary with size 4.1 MiB\n",
      "23/12/04 13:10:27 WARN DAGScheduler: Broadcasting large task binary with size 5.5 MiB\n",
      "23/12/04 13:10:28 WARN DAGScheduler: Broadcasting large task binary with size 7.1 MiB\n",
      "23/12/04 13:10:29 WARN DAGScheduler: Broadcasting large task binary with size 1067.4 KiB\n",
      "23/12/04 13:10:49 WARN DAGScheduler: Broadcasting large task binary with size 1261.6 KiB\n",
      "23/12/04 13:10:51 WARN DAGScheduler: Broadcasting large task binary with size 2016.1 KiB\n",
      "23/12/04 13:10:53 WARN DAGScheduler: Broadcasting large task binary with size 3.1 MiB\n",
      "23/12/04 13:11:05 WARN DAGScheduler: Broadcasting large task binary with size 1283.7 KiB\n",
      "23/12/04 13:11:07 WARN DAGScheduler: Broadcasting large task binary with size 2.0 MiB\n",
      "23/12/04 13:11:10 WARN DAGScheduler: Broadcasting large task binary with size 3.2 MiB\n",
      "23/12/04 13:11:22 WARN DAGScheduler: Broadcasting large task binary with size 1261.6 KiB\n",
      "23/12/04 13:11:24 WARN DAGScheduler: Broadcasting large task binary with size 2016.1 KiB\n",
      "23/12/04 13:11:25 WARN DAGScheduler: Broadcasting large task binary with size 3.1 MiB\n",
      "23/12/04 13:11:28 WARN DAGScheduler: Broadcasting large task binary with size 4.6 MiB\n",
      "23/12/04 13:11:30 WARN DAGScheduler: Broadcasting large task binary with size 1037.9 KiB\n",
      "23/12/04 13:11:30 WARN DAGScheduler: Broadcasting large task binary with size 6.7 MiB\n",
      "23/12/04 13:11:33 WARN DAGScheduler: Broadcasting large task binary with size 1386.1 KiB\n",
      "23/12/04 13:11:33 WARN DAGScheduler: Broadcasting large task binary with size 9.3 MiB\n",
      "23/12/04 13:11:37 WARN DAGScheduler: Broadcasting large task binary with size 1751.5 KiB\n",
      "23/12/04 13:11:38 WARN DAGScheduler: Broadcasting large task binary with size 12.4 MiB\n",
      "23/12/04 13:11:42 WARN DAGScheduler: Broadcasting large task binary with size 2039.4 KiB\n",
      "23/12/04 13:11:43 WARN DAGScheduler: Broadcasting large task binary with size 15.7 MiB\n",
      "23/12/04 13:11:50 WARN DAGScheduler: Broadcasting large task binary with size 2.2 MiB\n",
      "23/12/04 13:12:03 WARN DAGScheduler: Broadcasting large task binary with size 1283.7 KiB\n",
      "23/12/04 13:12:04 WARN DAGScheduler: Broadcasting large task binary with size 2.0 MiB\n",
      "23/12/04 13:12:07 WARN DAGScheduler: Broadcasting large task binary with size 3.2 MiB\n",
      "23/12/04 13:12:10 WARN DAGScheduler: Broadcasting large task binary with size 4.9 MiB\n",
      "23/12/04 13:12:12 WARN DAGScheduler: Broadcasting large task binary with size 1134.6 KiB\n",
      "23/12/04 13:12:12 WARN DAGScheduler: Broadcasting large task binary with size 7.3 MiB\n",
      "23/12/04 13:12:16 WARN DAGScheduler: Broadcasting large task binary with size 1568.4 KiB\n",
      "23/12/04 13:12:17 WARN DAGScheduler: Broadcasting large task binary with size 10.4 MiB\n",
      "23/12/04 13:12:20 WARN DAGScheduler: Broadcasting large task binary with size 2042.1 KiB\n",
      "23/12/04 13:12:21 WARN DAGScheduler: Broadcasting large task binary with size 14.1 MiB\n",
      "23/12/04 13:12:26 WARN DAGScheduler: Broadcasting large task binary with size 2.4 MiB\n",
      "23/12/04 13:12:27 WARN DAGScheduler: Broadcasting large task binary with size 18.4 MiB\n",
      "23/12/04 13:12:33 WARN DAGScheduler: Broadcasting large task binary with size 2.8 MiB\n",
      "23/12/04 13:13:14 WARN DAGScheduler: Broadcasting large task binary with size 1432.6 KiB\n",
      "23/12/04 13:13:18 WARN DAGScheduler: Broadcasting large task binary with size 2.4 MiB\n",
      "23/12/04 13:13:23 WARN DAGScheduler: Broadcasting large task binary with size 3.9 MiB\n",
      "23/12/04 13:13:30 WARN DAGScheduler: Broadcasting large task binary with size 1006.5 KiB\n",
      "23/12/04 13:13:31 WARN DAGScheduler: Broadcasting large task binary with size 6.1 MiB\n",
      "23/12/04 13:13:38 WARN DAGScheduler: Broadcasting large task binary with size 1494.1 KiB\n",
      "23/12/04 13:13:52 WARN DAGScheduler: Broadcasting large task binary with size 1442.7 KiB\n",
      "23/12/04 13:13:55 WARN DAGScheduler: Broadcasting large task binary with size 2.4 MiB\n",
      "23/12/04 13:14:00 WARN DAGScheduler: Broadcasting large task binary with size 4.0 MiB\n",
      "23/12/04 13:14:05 WARN DAGScheduler: Broadcasting large task binary with size 1050.7 KiB\n",
      "23/12/04 13:14:06 WARN DAGScheduler: Broadcasting large task binary with size 6.4 MiB\n",
      "23/12/04 13:14:11 WARN DAGScheduler: Broadcasting large task binary with size 1590.3 KiB\n",
      "23/12/04 13:14:25 WARN DAGScheduler: Broadcasting large task binary with size 1432.6 KiB\n",
      "23/12/04 13:14:29 WARN DAGScheduler: Broadcasting large task binary with size 2.4 MiB\n",
      "23/12/04 13:14:34 WARN DAGScheduler: Broadcasting large task binary with size 3.9 MiB\n",
      "23/12/04 13:14:40 WARN DAGScheduler: Broadcasting large task binary with size 1006.5 KiB\n",
      "23/12/04 13:14:41 WARN DAGScheduler: Broadcasting large task binary with size 6.1 MiB\n",
      "23/12/04 13:14:48 WARN DAGScheduler: Broadcasting large task binary with size 1494.1 KiB\n",
      "23/12/04 13:14:48 WARN DAGScheduler: Broadcasting large task binary with size 9.3 MiB\n",
      "23/12/04 13:14:57 WARN DAGScheduler: Broadcasting large task binary with size 2.1 MiB\n",
      "23/12/04 13:14:57 WARN DAGScheduler: Broadcasting large task binary with size 13.5 MiB\n",
      "23/12/04 13:15:05 WARN DAGScheduler: Broadcasting large task binary with size 2.7 MiB\n",
      "23/12/04 13:15:06 WARN DAGScheduler: Broadcasting large task binary with size 18.7 MiB\n",
      "23/12/04 13:15:15 WARN DAGScheduler: Broadcasting large task binary with size 3.4 MiB\n",
      "23/12/04 13:15:16 WARN DAGScheduler: Broadcasting large task binary with size 24.9 MiB\n",
      "23/12/04 13:15:27 WARN DAGScheduler: Broadcasting large task binary with size 4.0 MiB\n",
      "23/12/04 13:15:29 WARN DAGScheduler: Broadcasting large task binary with size 31.7 MiB\n",
      "23/12/04 13:15:40 WARN DAGScheduler: Broadcasting large task binary with size 4.4 MiB\n",
      "23/12/04 13:16:01 WARN DAGScheduler: Broadcasting large task binary with size 1442.7 KiB\n",
      "23/12/04 13:16:06 WARN DAGScheduler: Broadcasting large task binary with size 2.4 MiB\n",
      "23/12/04 13:16:11 WARN DAGScheduler: Broadcasting large task binary with size 4.0 MiB\n",
      "23/12/04 13:16:17 WARN DAGScheduler: Broadcasting large task binary with size 1050.7 KiB\n",
      "23/12/04 13:16:17 WARN DAGScheduler: Broadcasting large task binary with size 6.4 MiB\n",
      "23/12/04 13:16:23 WARN DAGScheduler: Broadcasting large task binary with size 1590.3 KiB\n",
      "23/12/04 13:16:24 WARN DAGScheduler: Broadcasting large task binary with size 9.9 MiB\n",
      "23/12/04 13:16:31 WARN DAGScheduler: Broadcasting large task binary with size 2.2 MiB\n",
      "23/12/04 13:16:32 WARN DAGScheduler: Broadcasting large task binary with size 14.6 MiB\n",
      "23/12/04 13:16:42 WARN DAGScheduler: Broadcasting large task binary with size 3.1 MiB\n",
      "23/12/04 13:16:43 WARN DAGScheduler: Broadcasting large task binary with size 20.9 MiB\n",
      "23/12/04 13:16:55 WARN DAGScheduler: Broadcasting large task binary with size 4.1 MiB\n",
      "23/12/04 13:16:57 WARN DAGScheduler: Broadcasting large task binary with size 28.7 MiB\n",
      "23/12/04 13:17:11 WARN DAGScheduler: Broadcasting large task binary with size 5.0 MiB\n",
      "23/12/04 13:17:14 WARN DAGScheduler: Broadcasting large task binary with size 37.8 MiB\n",
      "23/12/04 13:17:27 WARN DAGScheduler: Broadcasting large task binary with size 5.8 MiB\n",
      "23/12/04 13:17:41 WARN DAGScheduler: Broadcasting large task binary with size 1355.4 KiB\n",
      "23/12/04 13:17:46 WARN DAGScheduler: Broadcasting large task binary with size 1398.5 KiB\n",
      "23/12/04 13:17:52 WARN DAGScheduler: Broadcasting large task binary with size 1355.4 KiB\n",
      "23/12/04 13:17:53 WARN DAGScheduler: Broadcasting large task binary with size 1994.9 KiB\n",
      "23/12/04 13:17:54 WARN DAGScheduler: Broadcasting large task binary with size 2.8 MiB\n"
     ]
    },
    {
     "name": "stderr",
     "output_type": "stream",
     "text": [
      "23/12/04 13:17:55 WARN DAGScheduler: Broadcasting large task binary with size 3.8 MiB\n",
      "23/12/04 13:17:56 WARN DAGScheduler: Broadcasting large task binary with size 5.0 MiB\n",
      "23/12/04 13:17:58 WARN DAGScheduler: Broadcasting large task binary with size 6.3 MiB\n",
      "23/12/04 13:18:04 WARN DAGScheduler: Broadcasting large task binary with size 1398.5 KiB\n",
      "23/12/04 13:18:05 WARN DAGScheduler: Broadcasting large task binary with size 2.1 MiB\n",
      "23/12/04 13:18:06 WARN DAGScheduler: Broadcasting large task binary with size 3.0 MiB\n",
      "23/12/04 13:18:07 WARN DAGScheduler: Broadcasting large task binary with size 4.3 MiB\n",
      "23/12/04 13:18:09 WARN DAGScheduler: Broadcasting large task binary with size 5.8 MiB\n",
      "23/12/04 13:18:10 WARN DAGScheduler: Broadcasting large task binary with size 1008.8 KiB\n",
      "23/12/04 13:18:10 WARN DAGScheduler: Broadcasting large task binary with size 7.5 MiB\n",
      "23/12/04 13:18:12 WARN DAGScheduler: Broadcasting large task binary with size 1154.6 KiB\n",
      "23/12/04 13:18:31 WARN DAGScheduler: Broadcasting large task binary with size 1293.2 KiB\n",
      "23/12/04 13:18:34 WARN DAGScheduler: Broadcasting large task binary with size 2.0 MiB\n",
      "23/12/04 13:18:35 WARN DAGScheduler: Broadcasting large task binary with size 3.1 MiB\n",
      "23/12/04 13:18:47 WARN DAGScheduler: Broadcasting large task binary with size 1304.8 KiB\n",
      "23/12/04 13:18:48 WARN DAGScheduler: Broadcasting large task binary with size 2.1 MiB\n",
      "23/12/04 13:18:50 WARN DAGScheduler: Broadcasting large task binary with size 3.3 MiB\n",
      "23/12/04 13:19:02 WARN DAGScheduler: Broadcasting large task binary with size 1293.2 KiB\n",
      "23/12/04 13:19:04 WARN DAGScheduler: Broadcasting large task binary with size 2.0 MiB\n",
      "23/12/04 13:19:06 WARN DAGScheduler: Broadcasting large task binary with size 3.1 MiB\n",
      "23/12/04 13:19:09 WARN DAGScheduler: Broadcasting large task binary with size 4.7 MiB\n",
      "23/12/04 13:19:12 WARN DAGScheduler: Broadcasting large task binary with size 1044.3 KiB\n",
      "23/12/04 13:19:12 WARN DAGScheduler: Broadcasting large task binary with size 6.8 MiB\n",
      "23/12/04 13:19:15 WARN DAGScheduler: Broadcasting large task binary with size 1367.6 KiB\n",
      "23/12/04 13:19:16 WARN DAGScheduler: Broadcasting large task binary with size 9.3 MiB\n",
      "23/12/04 13:19:19 WARN DAGScheduler: Broadcasting large task binary with size 1681.7 KiB\n",
      "23/12/04 13:19:19 WARN DAGScheduler: Broadcasting large task binary with size 12.2 MiB\n",
      "23/12/04 13:19:23 WARN DAGScheduler: Broadcasting large task binary with size 1944.1 KiB\n",
      "23/12/04 13:19:23 WARN DAGScheduler: Broadcasting large task binary with size 15.3 MiB\n",
      "23/12/04 13:19:27 WARN DAGScheduler: Broadcasting large task binary with size 2.0 MiB\n",
      "23/12/04 13:19:37 WARN DAGScheduler: Broadcasting large task binary with size 1304.8 KiB\n",
      "23/12/04 13:19:39 WARN DAGScheduler: Broadcasting large task binary with size 2.1 MiB\n",
      "23/12/04 13:19:40 WARN DAGScheduler: Broadcasting large task binary with size 3.3 MiB\n",
      "23/12/04 13:19:43 WARN DAGScheduler: Broadcasting large task binary with size 5.1 MiB\n",
      "23/12/04 13:19:46 WARN DAGScheduler: Broadcasting large task binary with size 1193.1 KiB\n",
      "23/12/04 13:19:46 WARN DAGScheduler: Broadcasting large task binary with size 7.6 MiB\n",
      "23/12/04 13:19:50 WARN DAGScheduler: Broadcasting large task binary with size 1628.7 KiB\n",
      "23/12/04 13:19:50 WARN DAGScheduler: Broadcasting large task binary with size 10.8 MiB\n",
      "23/12/04 13:19:53 WARN DAGScheduler: Broadcasting large task binary with size 2.1 MiB\n",
      "23/12/04 13:19:54 WARN DAGScheduler: Broadcasting large task binary with size 14.7 MiB\n",
      "23/12/04 13:19:58 WARN DAGScheduler: Broadcasting large task binary with size 2.6 MiB\n",
      "23/12/04 13:19:58 WARN DAGScheduler: Broadcasting large task binary with size 19.1 MiB\n",
      "23/12/04 13:20:02 WARN DAGScheduler: Broadcasting large task binary with size 2.9 MiB\n",
      "23/12/04 13:20:38 WARN DAGScheduler: Broadcasting large task binary with size 1438.9 KiB\n",
      "23/12/04 13:20:42 WARN DAGScheduler: Broadcasting large task binary with size 2.4 MiB\n",
      "23/12/04 13:20:47 WARN DAGScheduler: Broadcasting large task binary with size 3.9 MiB\n",
      "23/12/04 13:20:52 WARN DAGScheduler: Broadcasting large task binary with size 1010.6 KiB\n",
      "23/12/04 13:20:52 WARN DAGScheduler: Broadcasting large task binary with size 6.2 MiB\n",
      "23/12/04 13:20:59 WARN DAGScheduler: Broadcasting large task binary with size 1516.3 KiB\n",
      "23/12/04 13:21:12 WARN DAGScheduler: Broadcasting large task binary with size 1447.8 KiB\n",
      "23/12/04 13:21:16 WARN DAGScheduler: Broadcasting large task binary with size 2.4 MiB\n",
      "23/12/04 13:21:21 WARN DAGScheduler: Broadcasting large task binary with size 4.0 MiB\n",
      "23/12/04 13:21:27 WARN DAGScheduler: Broadcasting large task binary with size 1066.6 KiB\n",
      "23/12/04 13:21:27 WARN DAGScheduler: Broadcasting large task binary with size 6.5 MiB\n",
      "23/12/04 13:21:33 WARN DAGScheduler: Broadcasting large task binary with size 1636.9 KiB\n",
      "23/12/04 13:21:48 WARN DAGScheduler: Broadcasting large task binary with size 1438.9 KiB\n",
      "23/12/04 13:21:52 WARN DAGScheduler: Broadcasting large task binary with size 2.4 MiB\n",
      "23/12/04 13:21:57 WARN DAGScheduler: Broadcasting large task binary with size 3.9 MiB\n",
      "23/12/04 13:22:03 WARN DAGScheduler: Broadcasting large task binary with size 1010.6 KiB\n",
      "23/12/04 13:22:03 WARN DAGScheduler: Broadcasting large task binary with size 6.2 MiB\n",
      "23/12/04 13:22:09 WARN DAGScheduler: Broadcasting large task binary with size 1516.3 KiB\n",
      "23/12/04 13:22:09 WARN DAGScheduler: Broadcasting large task binary with size 9.4 MiB\n",
      "23/12/04 13:22:16 WARN DAGScheduler: Broadcasting large task binary with size 2.1 MiB\n",
      "23/12/04 13:22:17 WARN DAGScheduler: Broadcasting large task binary with size 13.7 MiB\n",
      "23/12/04 13:22:25 WARN DAGScheduler: Broadcasting large task binary with size 2.8 MiB\n",
      "23/12/04 13:22:25 WARN DAGScheduler: Broadcasting large task binary with size 19.1 MiB\n",
      "23/12/04 13:22:35 WARN DAGScheduler: Broadcasting large task binary with size 3.5 MiB\n",
      "23/12/04 13:22:37 WARN DAGScheduler: Broadcasting large task binary with size 25.5 MiB\n",
      "23/12/04 13:22:48 WARN DAGScheduler: Broadcasting large task binary with size 4.1 MiB\n",
      "23/12/04 13:22:50 WARN DAGScheduler: Broadcasting large task binary with size 32.4 MiB\n",
      "23/12/04 13:23:03 WARN DAGScheduler: Broadcasting large task binary with size 4.5 MiB\n",
      "23/12/04 13:23:20 WARN DAGScheduler: Broadcasting large task binary with size 1447.8 KiB\n",
      "23/12/04 13:23:24 WARN DAGScheduler: Broadcasting large task binary with size 2.4 MiB\n",
      "23/12/04 13:23:28 WARN DAGScheduler: Broadcasting large task binary with size 4.0 MiB\n",
      "23/12/04 13:23:34 WARN DAGScheduler: Broadcasting large task binary with size 1066.6 KiB\n",
      "23/12/04 13:23:34 WARN DAGScheduler: Broadcasting large task binary with size 6.5 MiB\n",
      "23/12/04 13:23:41 WARN DAGScheduler: Broadcasting large task binary with size 1636.9 KiB\n",
      "23/12/04 13:23:41 WARN DAGScheduler: Broadcasting large task binary with size 10.1 MiB\n",
      "23/12/04 13:23:48 WARN DAGScheduler: Broadcasting large task binary with size 2.3 MiB\n",
      "23/12/04 13:23:49 WARN DAGScheduler: Broadcasting large task binary with size 15.2 MiB\n",
      "23/12/04 13:23:59 WARN DAGScheduler: Broadcasting large task binary with size 3.3 MiB\n",
      "23/12/04 13:24:00 WARN DAGScheduler: Broadcasting large task binary with size 21.8 MiB\n",
      "23/12/04 13:24:10 WARN DAGScheduler: Broadcasting large task binary with size 4.3 MiB\n",
      "23/12/04 13:24:12 WARN DAGScheduler: Broadcasting large task binary with size 30.0 MiB\n",
      "23/12/04 13:24:23 WARN DAGScheduler: Broadcasting large task binary with size 5.3 MiB\n",
      "23/12/04 13:24:25 WARN DAGScheduler: Broadcasting large task binary with size 39.5 MiB\n",
      "23/12/04 13:24:38 WARN DAGScheduler: Broadcasting large task binary with size 6.1 MiB\n",
      "23/12/04 13:25:04 WARN DAGScheduler: Broadcasting large task binary with size 1446.2 KiB\n",
      "23/12/04 13:25:10 WARN DAGScheduler: Broadcasting large task binary with size 2.4 MiB\n",
      "23/12/04 13:25:17 WARN DAGScheduler: Broadcasting large task binary with size 4.0 MiB\n",
      "23/12/04 13:25:23 WARN DAGScheduler: Broadcasting large task binary with size 1074.4 KiB\n",
      "23/12/04 13:25:24 WARN DAGScheduler: Broadcasting large task binary with size 6.5 MiB\n",
      "23/12/04 13:25:32 WARN DAGScheduler: Broadcasting large task binary with size 1657.1 KiB\n",
      "23/12/04 13:25:32 WARN DAGScheduler: Broadcasting large task binary with size 10.2 MiB\n"
     ]
    },
    {
     "name": "stderr",
     "output_type": "stream",
     "text": [
      "23/12/04 13:25:42 WARN DAGScheduler: Broadcasting large task binary with size 2.4 MiB\n",
      "23/12/04 13:25:43 WARN DAGScheduler: Broadcasting large task binary with size 15.3 MiB\n",
      "23/12/04 13:25:55 WARN DAGScheduler: Broadcasting large task binary with size 3.3 MiB\n",
      "23/12/04 13:25:56 WARN DAGScheduler: Broadcasting large task binary with size 21.9 MiB\n",
      "23/12/04 13:26:09 WARN DAGScheduler: Broadcasting large task binary with size 4.3 MiB\n",
      "23/12/04 13:26:11 WARN DAGScheduler: Broadcasting large task binary with size 30.0 MiB\n",
      "23/12/04 13:26:25 WARN DAGScheduler: Broadcasting large task binary with size 5.3 MiB\n",
      "23/12/04 13:26:27 WARN DAGScheduler: Broadcasting large task binary with size 39.3 MiB\n",
      "23/12/04 13:26:45 WARN DAGScheduler: Broadcasting large task binary with size 6.0 MiB\n",
      "                                                                                \r"
     ]
    }
   ],
   "source": [
    "## It takes around 20minutes to finish the training.\n",
    "\n",
    "# CrossValidator for hyperparameter tuning\n",
    "crossval = CrossValidator(estimator=pipeline,\n",
    "                          estimatorParamMaps=paramGrid,\n",
    "                          evaluator=RegressionEvaluator(labelCol=\"total_amount\"),\n",
    "                          numFolds=3)\n",
    "\n",
    "# Fitting the model\n",
    "cvModel = crossval.fit(small_train_df)"
   ]
  },
  {
   "cell_type": "code",
   "execution_count": 39,
   "metadata": {},
   "outputs": [
    {
     "name": "stderr",
     "output_type": "stream",
     "text": [
      "[Stage 5495:================>                                      (3 + 7) / 10]\r"
     ]
    },
    {
     "name": "stdout",
     "output_type": "stream",
     "text": [
      "Root Mean Squared Error (RMSE) on test data = 8.615856029697497\n"
     ]
    },
    {
     "name": "stderr",
     "output_type": "stream",
     "text": [
      "\r",
      "[Stage 5495:=================================================>     (9 + 1) / 10]\r",
      "\r",
      "                                                                                \r"
     ]
    }
   ],
   "source": [
    "# Evaluate on test data\n",
    "predictions = cvModel.transform(test_df)\n",
    "evaluator = RegressionEvaluator(labelCol=\"total_amount\")\n",
    "rmse = evaluator.evaluate(predictions)\n",
    "print(\"Root Mean Squared Error (RMSE) on test data =\", rmse)"
   ]
  },
  {
   "cell_type": "code",
   "execution_count": 40,
   "metadata": {},
   "outputs": [
    {
     "name": "stderr",
     "output_type": "stream",
     "text": [
      "[Stage 5497:===========>                                           (2 + 8) / 10]\r"
     ]
    },
    {
     "name": "stdout",
     "output_type": "stream",
     "text": [
      "Accuracy Rate within $5: 75.45466414616924%\n"
     ]
    },
    {
     "name": "stderr",
     "output_type": "stream",
     "text": [
      "\r",
      "[Stage 5497:=================================>                     (6 + 4) / 10]\r",
      "\r",
      "                                                                                \r"
     ]
    }
   ],
   "source": [
    "from pyspark.sql.functions import col, abs\n",
    "\n",
    "# Calculate the accuracy rate within an acceptable error\n",
    "acceptable_error = 5\n",
    "accurate_predictions = predictions.withColumn(\"error\", abs(col(\"prediction\") - col(\"total_amount\")))\n",
    "accurate_count = accurate_predictions.where(col(\"error\") <= acceptable_error).count()\n",
    "total_count = predictions.count()\n",
    "accuracy_rate = accurate_count / total_count * 100\n",
    "print(f\"Accuracy Rate within ${acceptable_error}: {accuracy_rate}%\")"
   ]
  },
  {
   "cell_type": "code",
   "execution_count": 41,
   "metadata": {},
   "outputs": [
    {
     "name": "stdout",
     "output_type": "stream",
     "text": [
      "+-------------+-----------+------------+------------------+\n",
      "|trip_distance|day_of_week|total_amount|        prediction|\n",
      "+-------------+-----------+------------+------------------+\n",
      "|          0.3|    Tuesday|        12.6|14.510216938488384|\n",
      "|          1.5|   Saturday|        14.0|18.956019560942053|\n",
      "|          1.9|   Thursday|       21.35|19.271994145172137|\n",
      "|          2.3|   Thursday|       29.85|24.277038024548496|\n",
      "|         16.7|     Friday|       90.55| 90.85347813647773|\n",
      "|          0.9|    Tuesday|        17.0|16.438776624591704|\n",
      "|          1.9|     Sunday|        22.4|19.763197327564306|\n",
      "|          2.6|  Wednesday|        27.9| 24.69470896026036|\n",
      "|          3.3|    Tuesday|        47.0| 28.74414365196836|\n",
      "|          3.3|     Monday|        29.7|28.555897371492037|\n",
      "|          2.3|  Wednesday|        33.2|23.771215109215902|\n",
      "|          0.6|  Wednesday|        15.4|14.941718463129858|\n",
      "|          0.8|  Wednesday|       14.25|16.226487560856587|\n",
      "|          0.9|   Thursday|       14.25|15.121657008060005|\n",
      "|          0.9|   Thursday|       17.15|17.032957391430692|\n",
      "|          1.3|  Wednesday|       19.65|  17.9034380509127|\n",
      "|          0.5|    Tuesday|        11.9|15.012530993039126|\n",
      "|          0.5|     Sunday|        10.5|16.135533913457728|\n",
      "|          0.8|   Thursday|       15.95|  16.3032093540099|\n",
      "|          0.6|     Friday|        11.5|13.734216847379933|\n",
      "+-------------+-----------+------------+------------------+\n",
      "only showing top 20 rows\n",
      "\n"
     ]
    }
   ],
   "source": [
    "predictions.select([\"trip_distance\", \"day_of_week\", \"total_amount\", \"prediction\"]).show()"
   ]
  },
  {
   "cell_type": "code",
   "execution_count": null,
   "metadata": {},
   "outputs": [],
   "source": []
  }
 ],
 "metadata": {
  "kernelspec": {
   "display_name": "Python 3 (ipykernel)",
   "language": "python",
   "name": "python3"
  },
  "language_info": {
   "codemirror_mode": {
    "name": "ipython",
    "version": 3
   },
   "file_extension": ".py",
   "mimetype": "text/x-python",
   "name": "python",
   "nbconvert_exporter": "python",
   "pygments_lexer": "ipython3",
   "version": "3.11.5"
  }
 },
 "nbformat": 4,
 "nbformat_minor": 2
}
